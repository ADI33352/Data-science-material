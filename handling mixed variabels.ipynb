{
  "nbformat": 4,
  "nbformat_minor": 0,
  "metadata": {
    "colab": {
      "provenance": [],
      "authorship_tag": "ABX9TyMyX+pbnhLEsGzQLQMKllEn",
      "include_colab_link": true
    },
    "kernelspec": {
      "name": "python3",
      "display_name": "Python 3"
    },
    "language_info": {
      "name": "python"
    }
  },
  "cells": [
    {
      "cell_type": "markdown",
      "metadata": {
        "id": "view-in-github",
        "colab_type": "text"
      },
      "source": [
        "<a href=\"https://colab.research.google.com/github/ADI33352/Data-science-material/blob/main/handling%20mixed%20variabels.ipynb\" target=\"_parent\"><img src=\"https://colab.research.google.com/assets/colab-badge.svg\" alt=\"Open In Colab\"/></a>"
      ]
    },
    {
      "cell_type": "code",
      "execution_count": null,
      "metadata": {
        "id": "DOn70xIwkd-b"
      },
      "outputs": [],
      "source": [
        "df['number'].unique()"
      ]
    },
    {
      "cell_type": "code",
      "execution_count": null,
      "metadata": {
        "id": "yuLsliyA-ZFx"
      },
      "outputs": [],
      "source": [
        "fig = df['number'].value_counts().plot.bar()\n",
        "fig.set_title('Passengers travelling with')"
      ]
    },
    {
      "cell_type": "code",
      "source": [
        "# extract numerical part\n",
        "df['number_numerical'] = pd.to_numeric(df[\"number\"],errors='coerce',downcast='integer')"
      ],
      "metadata": {
        "id": "FJ7Q-4DF-ioF"
      },
      "execution_count": null,
      "outputs": []
    },
    {
      "cell_type": "code",
      "source": [
        "# extract categorical part\n",
        "df['number_categorical'] = np.where(df['number_numerical'].isnull(),df['number'],np.nan)\n",
        "\n",
        "df.head()"
      ],
      "metadata": {
        "id": "9AKd6ua8-pxf"
      },
      "execution_count": null,
      "outputs": []
    },
    {
      "cell_type": "code",
      "source": [
        "df['Cabin'].unique()"
      ],
      "metadata": {
        "id": "KrQquQeh-ty5"
      },
      "execution_count": null,
      "outputs": []
    },
    {
      "cell_type": "code",
      "source": [
        "df['cabin_num'] = df['Cabin'].str.extract('(\\d+)') # captures numerical part\n",
        "df['cabin_cat'] = df['Cabin'].str[0] # captures the first letter\n",
        "\n",
        "df.head()"
      ],
      "metadata": {
        "id": "Ray-olsb-zAs"
      },
      "execution_count": null,
      "outputs": []
    },
    {
      "cell_type": "code",
      "source": [
        "df['cabin_cat'].value_counts().plot(kind='bar')"
      ],
      "metadata": {
        "id": "Ju34uaME-8CY"
      },
      "execution_count": null,
      "outputs": []
    }
  ]
}